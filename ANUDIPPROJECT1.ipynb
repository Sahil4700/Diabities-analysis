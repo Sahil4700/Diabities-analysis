{
 "cells": [
  {
   "cell_type": "code",
   "execution_count": 7,
   "id": "742afb44-83ad-4609-ac65-d5c04029f83d",
   "metadata": {},
   "outputs": [],
   "source": [
    "import numpy as np\n",
    "import pandas as pd\n",
    "import matplotlib.pyplot as plt"
   ]
  },
  {
   "cell_type": "code",
   "execution_count": 11,
   "id": "7a656684-916f-440d-a597-9f4cd14c5f00",
   "metadata": {},
   "outputs": [],
   "source": [
    "df=pd.read_csv('diabetes_data_upload.csv')"
   ]
  },
  {
   "cell_type": "code",
   "execution_count": 13,
   "id": "a2a5ffa5-5442-48b1-b3d5-dda5babe6fcc",
   "metadata": {},
   "outputs": [
    {
     "name": "stdout",
     "output_type": "stream",
     "text": [
      "   Age Gender Polyuria Polydipsia sudden weight loss weakness Polyphagia  \\\n",
      "0   40   Male       No        Yes                 No      Yes         No   \n",
      "1   58   Male       No         No                 No      Yes         No   \n",
      "2   41   Male      Yes         No                 No      Yes        Yes   \n",
      "3   45   Male       No         No                Yes      Yes        Yes   \n",
      "4   60   Male      Yes        Yes                Yes      Yes        Yes   \n",
      "\n",
      "  Genital thrush visual blurring Itching Irritability delayed healing  \\\n",
      "0             No              No     Yes           No             Yes   \n",
      "1             No             Yes      No           No              No   \n",
      "2             No              No     Yes           No             Yes   \n",
      "3            Yes              No     Yes           No             Yes   \n",
      "4             No             Yes     Yes          Yes             Yes   \n",
      "\n",
      "  partial paresis muscle stiffness Alopecia Obesity     class  \n",
      "0              No              Yes      Yes     Yes  Positive  \n",
      "1             Yes               No      Yes      No  Positive  \n",
      "2              No              Yes      Yes      No  Positive  \n",
      "3              No               No       No      No  Positive  \n",
      "4             Yes              Yes      Yes     Yes  Positive  \n"
     ]
    }
   ],
   "source": [
    "#display first few rows\n",
    "print(df.head())"
   ]
  },
  {
   "cell_type": "code",
   "execution_count": 15,
   "id": "a987ffec-6486-417e-b03e-c92f09af170c",
   "metadata": {},
   "outputs": [
    {
     "name": "stdout",
     "output_type": "stream",
     "text": [
      "<class 'pandas.core.frame.DataFrame'>\n",
      "RangeIndex: 520 entries, 0 to 519\n",
      "Data columns (total 17 columns):\n",
      " #   Column              Non-Null Count  Dtype \n",
      "---  ------              --------------  ----- \n",
      " 0   Age                 520 non-null    int64 \n",
      " 1   Gender              520 non-null    object\n",
      " 2   Polyuria            520 non-null    object\n",
      " 3   Polydipsia          520 non-null    object\n",
      " 4   sudden weight loss  520 non-null    object\n",
      " 5   weakness            520 non-null    object\n",
      " 6   Polyphagia          520 non-null    object\n",
      " 7   Genital thrush      520 non-null    object\n",
      " 8   visual blurring     520 non-null    object\n",
      " 9   Itching             520 non-null    object\n",
      " 10  Irritability        520 non-null    object\n",
      " 11  delayed healing     520 non-null    object\n",
      " 12  partial paresis     520 non-null    object\n",
      " 13  muscle stiffness    520 non-null    object\n",
      " 14  Alopecia            520 non-null    object\n",
      " 15  Obesity             520 non-null    object\n",
      " 16  class               520 non-null    object\n",
      "dtypes: int64(1), object(16)\n",
      "memory usage: 69.2+ KB\n",
      "None\n"
     ]
    }
   ],
   "source": [
    "print(df.info())"
   ]
  },
  {
   "cell_type": "code",
   "execution_count": 17,
   "id": "1d59b03f-b13f-4e8b-886c-5398ba54ad03",
   "metadata": {},
   "outputs": [
    {
     "name": "stdout",
     "output_type": "stream",
     "text": [
      "              Age\n",
      "count  520.000000\n",
      "mean    48.028846\n",
      "std     12.151466\n",
      "min     16.000000\n",
      "25%     39.000000\n",
      "50%     47.500000\n",
      "75%     57.000000\n",
      "max     90.000000\n"
     ]
    }
   ],
   "source": [
    "print(df.describe())"
   ]
  },
  {
   "cell_type": "code",
   "execution_count": 21,
   "id": "d3921e28-4ba7-482d-a50d-06131a30b23e",
   "metadata": {},
   "outputs": [
    {
     "name": "stdout",
     "output_type": "stream",
     "text": [
      "Age                   0\n",
      "Gender                0\n",
      "Polyuria              0\n",
      "Polydipsia            0\n",
      "sudden weight loss    0\n",
      "weakness              0\n",
      "Polyphagia            0\n",
      "Genital thrush        0\n",
      "visual blurring       0\n",
      "Itching               0\n",
      "Irritability          0\n",
      "delayed healing       0\n",
      "partial paresis       0\n",
      "muscle stiffness      0\n",
      "Alopecia              0\n",
      "Obesity               0\n",
      "class                 0\n",
      "dtype: int64\n"
     ]
    }
   ],
   "source": [
    "print(df.isnull().sum())"
   ]
  },
  {
   "cell_type": "code",
   "execution_count": 33,
   "id": "49f669b2-36b9-4673-8679-6a4c212bcd97",
   "metadata": {},
   "outputs": [
    {
     "name": "stdout",
     "output_type": "stream",
     "text": [
      "   Age Gender Polyuria Polydipsia sudden weight loss weakness Polyphagia  \\\n",
      "0   40   Male       No        Yes                 No      Yes         No   \n",
      "1   58   Male       No         No                 No      Yes         No   \n",
      "2   41   Male      Yes         No                 No      Yes        Yes   \n",
      "3   45   Male       No         No                Yes      Yes        Yes   \n",
      "4   60   Male      Yes        Yes                Yes      Yes        Yes   \n",
      "\n",
      "  Genital thrush visual blurring Itching Irritability delayed healing  \\\n",
      "0             No              No     Yes           No             Yes   \n",
      "1             No             Yes      No           No              No   \n",
      "2             No              No     Yes           No             Yes   \n",
      "3            Yes              No     Yes           No             Yes   \n",
      "4             No             Yes     Yes          Yes             Yes   \n",
      "\n",
      "  partial paresis muscle stiffness Alopecia Obesity     class  \n",
      "0              No              Yes      Yes     Yes  Positive  \n",
      "1             Yes               No      Yes      No  Positive  \n",
      "2              No              Yes      Yes      No  Positive  \n",
      "3              No               No       No      No  Positive  \n",
      "4             Yes              Yes      Yes     Yes  Positive  \n"
     ]
    }
   ],
   "source": [
    "#data cleaning\n",
    "#handeling missing values\n",
    "# Fill numeric columns with mean\n",
    "df.fillna(df.select_dtypes(include=[np.number]).mean(), inplace=True)\n",
    "# Fill categorical (object) columns with mode\n",
    "for col in df.select_dtypes(include='object').columns:\n",
    "    df[col] = df[col].fillna(df[col].mode()[0])\n",
    "print(df.head()) "
   ]
  },
  {
   "cell_type": "code",
   "execution_count": 35,
   "id": "21abcae3-a41f-4644-a6e0-001d9d0e431a",
   "metadata": {},
   "outputs": [
    {
     "name": "stdout",
     "output_type": "stream",
     "text": [
      "Data shape after removing duplicates: (251, 17)\n"
     ]
    }
   ],
   "source": [
    "#removing duplicates\n",
    "# Remove duplicate rows\n",
    "df.drop_duplicates(inplace=True)\n",
    "# Optional: Reset the index after dropping duplicates\n",
    "df.reset_index(drop=True, inplace=True)\n",
    "# Display how many rows are left\n",
    "print(f\"Data shape after removing duplicates: {df.shape}\")"
   ]
  },
  {
   "cell_type": "code",
   "execution_count": 37,
   "id": "d3c40628-573d-4ced-8d9d-30159dae613a",
   "metadata": {},
   "outputs": [
    {
     "name": "stdout",
     "output_type": "stream",
     "text": [
      "Number of duplicate rows: 0\n"
     ]
    }
   ],
   "source": [
    "# Count duplicates before dropping\n",
    "duplicates_count = df.duplicated().sum()\n",
    "print(f\"Number of duplicate rows: {duplicates_count}\")"
   ]
  },
  {
   "cell_type": "code",
   "execution_count": 39,
   "id": "b05f2664-6ee3-4bbf-b38f-140b2b7fdcc2",
   "metadata": {},
   "outputs": [
    {
     "name": "stdout",
     "output_type": "stream",
     "text": [
      "Class Distribution:\n",
      " class\n",
      "Positive    173\n",
      "Negative     78\n",
      "Name: count, dtype: int64\n"
     ]
    }
   ],
   "source": [
    "#data analysis using numpy and pandas\n",
    "#1.Distribution of Outcome (Class)\n",
    "#Check how many people are diabetic vs. not diabetic.\n",
    "# Count of each class\n",
    "class_distribution = df['class'].value_counts()\n",
    "print(\"Class Distribution:\\n\", class_distribution)"
   ]
  },
  {
   "cell_type": "code",
   "execution_count": 41,
   "id": "610806af-37e8-45eb-8198-69c541b078ec",
   "metadata": {},
   "outputs": [
    {
     "name": "stdout",
     "output_type": "stream",
     "text": [
      "Class Distribution (%):\n",
      " class\n",
      "Positive    68.924303\n",
      "Negative    31.075697\n",
      "Name: proportion, dtype: float64\n"
     ]
    }
   ],
   "source": [
    "#You can also get percentages:\n",
    "print(\"Class Distribution (%):\\n\", df['class'].value_counts(normalize=True) * 100)"
   ]
  },
  {
   "cell_type": "code",
   "execution_count": 47,
   "id": "1229f702-817c-4817-bdde-9c7b91b4ade1",
   "metadata": {},
   "outputs": [
    {
     "name": "stdout",
     "output_type": "stream",
     "text": [
      "Diabetic Gender Distribution:\n",
      " Gender\n",
      "Male      93\n",
      "Female    80\n",
      "Name: count, dtype: int64\n"
     ]
    }
   ],
   "source": [
    "#2. Number of Males vs Females with Diabetes\n",
    "# Filter only diabetic individuals\n",
    "diabetic = df[df['class'] == 'Positive']\n",
    "# Count gender among diabetic patients\n",
    "gender_distribution = diabetic['Gender'].value_counts()\n",
    "print(\"Diabetic Gender Distribution:\\n\", gender_distribution)"
   ]
  },
  {
   "cell_type": "code",
   "execution_count": 54,
   "id": "10e22cdb-81d2-4925-806d-4088dc7a253a",
   "metadata": {},
   "outputs": [
    {
     "name": "stdout",
     "output_type": "stream",
     "text": [
      "Most Common Symptoms in Diabetic Patients:\n",
      " Polyuria              127\n",
      "Polydipsia            120\n",
      "weakness              118\n",
      "Polyphagia             99\n",
      "partial paresis        98\n",
      "sudden weight loss     93\n",
      "delayed healing        89\n",
      "visual blurring        88\n",
      "Itching                86\n",
      "muscle stiffness       74\n",
      "Irritability           63\n",
      "Genital thrush         56\n",
      "Alopecia               51\n",
      "Obesity                34\n",
      "dtype: int64\n"
     ]
    }
   ],
   "source": [
    "#3. Frequency of Symptoms Among Diabetic Patients\n",
    "#Let’s find out which symptoms are most common among people who tested Positive for diabetes.\n",
    "# Filter only diabetic patients\n",
    "diabetic_df = df[df['class'] == 'Positive']\n",
    "# Drop non-symptom columns like 'Age', 'Gender', 'class' (you can adjust this list as needed)\n",
    "symptom_columns = [col for col in diabetic_df.columns if col not in ['Age', 'Gender', 'class']]\n",
    "# Count how many times each symptom is reported as 'Yes'\n",
    "symptom_counts = (diabetic_df[symptom_columns] == 'Yes').sum().sort_values(ascending=False)\n",
    "print(\"Most Common Symptoms in Diabetic Patients:\\n\", symptom_counts)"
   ]
  },
  {
   "cell_type": "code",
   "execution_count": null,
   "id": "6b44016c-1aa6-4f41-90ab-7fb1023e533b",
   "metadata": {},
   "outputs": [],
   "source": []
  },
  {
   "cell_type": "code",
   "execution_count": null,
   "id": "9453ea55-ecf2-44d8-b9bc-b0f8b424ed47",
   "metadata": {},
   "outputs": [],
   "source": []
  },
  {
   "cell_type": "code",
   "execution_count": null,
   "id": "f563cd70-9d8b-4b27-bacd-aa93357459a0",
   "metadata": {},
   "outputs": [],
   "source": []
  },
  {
   "cell_type": "code",
   "execution_count": null,
   "id": "ce323de5-28dc-4216-bc83-71d0b06664d4",
   "metadata": {},
   "outputs": [],
   "source": []
  }
 ],
 "metadata": {
  "kernelspec": {
   "display_name": "Python [conda env:base] *",
   "language": "python",
   "name": "conda-base-py"
  },
  "language_info": {
   "codemirror_mode": {
    "name": "ipython",
    "version": 3
   },
   "file_extension": ".py",
   "mimetype": "text/x-python",
   "name": "python",
   "nbconvert_exporter": "python",
   "pygments_lexer": "ipython3",
   "version": "3.12.7"
  }
 },
 "nbformat": 4,
 "nbformat_minor": 5
}
